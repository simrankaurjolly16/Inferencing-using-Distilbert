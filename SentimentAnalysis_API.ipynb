{
 "cells": [
  {
   "cell_type": "code",
   "execution_count": 26,
   "id": "4203bb3c",
   "metadata": {},
   "outputs": [],
   "source": [
    "from transformers import pipeline\n",
    "import pandas as pd\n",
    "classifier = pipeline('sentiment-analysis')"
   ]
  },
  {
   "cell_type": "code",
   "execution_count": 3,
   "id": "4eee48bb",
   "metadata": {},
   "outputs": [
    {
     "data": {
      "text/plain": [
       "[{'label': 'POSITIVE', 'score': 0.9997795224189758}]"
      ]
     },
     "execution_count": 3,
     "metadata": {},
     "output_type": "execute_result"
    }
   ],
   "source": [
    "classifier('We are very happy to show you the 🤗 Transformers library.')"
   ]
  },
  {
   "cell_type": "code",
   "execution_count": 7,
   "id": "e21f03c5",
   "metadata": {},
   "outputs": [],
   "source": [
    "results = classifier([\"I really appreciate the task you did as I had less time to do myself.\"])"
   ]
  },
  {
   "cell_type": "code",
   "execution_count": 8,
   "id": "6282f743",
   "metadata": {},
   "outputs": [
    {
     "name": "stdout",
     "output_type": "stream",
     "text": [
      "label: POSITIVE, with score: 0.9996\n"
     ]
    }
   ],
   "source": [
    "for result in results:\n",
    "...     print(f\"label: {result['label']}, with score: {round(result['score'], 4)}\")"
   ]
  },
  {
   "cell_type": "code",
   "execution_count": 9,
   "id": "6a2cbcda",
   "metadata": {},
   "outputs": [],
   "source": [
    "#under the hood \n",
    "from transformers import AutoTokenizer, AutoModelForSequenceClassification\n",
    "model_name = \"distilbert-base-uncased-finetuned-sst-2-english\"\n",
    "pt_model = AutoModelForSequenceClassification.from_pretrained(model_name)\n",
    "tokenizer = AutoTokenizer.from_pretrained(model_name)"
   ]
  },
  {
   "cell_type": "code",
   "execution_count": 10,
   "id": "60a51ee9",
   "metadata": {},
   "outputs": [],
   "source": [
    "inputs = tokenizer(\"I really appreciate the task you did as I had less time to do myself.\")"
   ]
  },
  {
   "cell_type": "code",
   "execution_count": 11,
   "id": "8b4cda9f",
   "metadata": {},
   "outputs": [
    {
     "name": "stdout",
     "output_type": "stream",
     "text": [
      "{'input_ids': [101, 1045, 2428, 9120, 1996, 4708, 2017, 2106, 2004, 1045, 2018, 2625, 2051, 2000, 2079, 2870, 1012, 102], 'attention_mask': [1, 1, 1, 1, 1, 1, 1, 1, 1, 1, 1, 1, 1, 1, 1, 1, 1, 1]}\n"
     ]
    }
   ],
   "source": [
    "print(inputs)"
   ]
  },
  {
   "cell_type": "code",
   "execution_count": 13,
   "id": "111e5016",
   "metadata": {},
   "outputs": [],
   "source": [
    "pt_batch = tokenizer(\n",
    "...     [\"I really appreciate the task you did as I had less time to do myself.\"],\n",
    "...     padding=True,\n",
    "...     truncation=True,\n",
    "...     max_length=512,\n",
    "...     return_tensors=\"pt\"\n",
    "... )"
   ]
  },
  {
   "cell_type": "code",
   "execution_count": 14,
   "id": "fa0c6db1",
   "metadata": {},
   "outputs": [],
   "source": [
    "pt_outputs = pt_model(**pt_batch)"
   ]
  },
  {
   "cell_type": "code",
   "execution_count": 15,
   "id": "0e7f37f1",
   "metadata": {},
   "outputs": [
    {
     "name": "stdout",
     "output_type": "stream",
     "text": [
      "SequenceClassifierOutput(loss=None, logits=tensor([[-3.7434,  4.0094]], grad_fn=<AddmmBackward>), hidden_states=None, attentions=None)\n"
     ]
    }
   ],
   "source": [
    "print(pt_outputs)"
   ]
  },
  {
   "cell_type": "code",
   "execution_count": 17,
   "id": "ebd51f29",
   "metadata": {},
   "outputs": [],
   "source": [
    "import torch.nn.functional as F\n",
    "pt_predictions = F.softmax(pt_outputs.logits, dim=-1)"
   ]
  },
  {
   "cell_type": "code",
   "execution_count": 18,
   "id": "8db3626a",
   "metadata": {},
   "outputs": [
    {
     "name": "stdout",
     "output_type": "stream",
     "text": [
      "tensor([[4.2932e-04, 9.9957e-01]], grad_fn=<SoftmaxBackward>)\n"
     ]
    }
   ],
   "source": [
    "print(pt_predictions)"
   ]
  },
  {
   "cell_type": "code",
   "execution_count": 29,
   "id": "f5badae3",
   "metadata": {},
   "outputs": [
    {
     "name": "stdout",
     "output_type": "stream",
     "text": [
      "/Users/simrankaur\r\n"
     ]
    }
   ],
   "source": [
    "!pwd"
   ]
  },
  {
   "cell_type": "code",
   "execution_count": 83,
   "id": "3d45a5a6",
   "metadata": {},
   "outputs": [],
   "source": [
    "col_names=['true_label','sentence'] \n",
    "data = pd.read_csv(\"testdata.csv\", names=col_names)"
   ]
  },
  {
   "cell_type": "code",
   "execution_count": 84,
   "id": "047f0546",
   "metadata": {},
   "outputs": [
    {
     "data": {
      "text/html": [
       "<div>\n",
       "<style scoped>\n",
       "    .dataframe tbody tr th:only-of-type {\n",
       "        vertical-align: middle;\n",
       "    }\n",
       "\n",
       "    .dataframe tbody tr th {\n",
       "        vertical-align: top;\n",
       "    }\n",
       "\n",
       "    .dataframe thead th {\n",
       "        text-align: right;\n",
       "    }\n",
       "</style>\n",
       "<table border=\"1\" class=\"dataframe\">\n",
       "  <thead>\n",
       "    <tr style=\"text-align: right;\">\n",
       "      <th></th>\n",
       "      <th>true_label</th>\n",
       "      <th>sentence</th>\n",
       "    </tr>\n",
       "  </thead>\n",
       "  <tbody>\n",
       "    <tr>\n",
       "      <th>0</th>\n",
       "      <td>4</td>\n",
       "      <td>@stellargirl I loooooooovvvvvveee my Kindle2. ...</td>\n",
       "    </tr>\n",
       "    <tr>\n",
       "      <th>1</th>\n",
       "      <td>4</td>\n",
       "      <td>Reading my kindle2...  Love it... Lee childs i...</td>\n",
       "    </tr>\n",
       "    <tr>\n",
       "      <th>2</th>\n",
       "      <td>4</td>\n",
       "      <td>Ok, first assesment of the #kindle2 ...it fuck...</td>\n",
       "    </tr>\n",
       "    <tr>\n",
       "      <th>3</th>\n",
       "      <td>4</td>\n",
       "      <td>@kenburbary You'll love your Kindle2. I've had...</td>\n",
       "    </tr>\n",
       "    <tr>\n",
       "      <th>4</th>\n",
       "      <td>4</td>\n",
       "      <td>@mikefish  Fair enough. But i have the Kindle2...</td>\n",
       "    </tr>\n",
       "  </tbody>\n",
       "</table>\n",
       "</div>"
      ],
      "text/plain": [
       "   true_label                                           sentence\n",
       "0           4  @stellargirl I loooooooovvvvvveee my Kindle2. ...\n",
       "1           4  Reading my kindle2...  Love it... Lee childs i...\n",
       "2           4  Ok, first assesment of the #kindle2 ...it fuck...\n",
       "3           4  @kenburbary You'll love your Kindle2. I've had...\n",
       "4           4  @mikefish  Fair enough. But i have the Kindle2..."
      ]
     },
     "execution_count": 84,
     "metadata": {},
     "output_type": "execute_result"
    }
   ],
   "source": [
    "data.head()"
   ]
  },
  {
   "cell_type": "code",
   "execution_count": 85,
   "id": "6551e558",
   "metadata": {},
   "outputs": [],
   "source": [
    "def sentiment_analyze(sentence):\n",
    "    pred = classifier(sentence)[0]\n",
    "    #print(pred)\n",
    "    return pred['label']"
   ]
  },
  {
   "cell_type": "code",
   "execution_count": 86,
   "id": "fab13504",
   "metadata": {},
   "outputs": [
    {
     "name": "stdout",
     "output_type": "stream",
     "text": [
      "POSITIVE\n"
     ]
    }
   ],
   "source": [
    "print(sentiment_analyze(data.sentence[3]))"
   ]
  },
  {
   "cell_type": "code",
   "execution_count": 87,
   "id": "179f7292",
   "metadata": {},
   "outputs": [],
   "source": [
    "data['distibert_prediction'] = data['sentence'].apply(lambda x:sentiment_analyze(x))"
   ]
  },
  {
   "cell_type": "code",
   "execution_count": 93,
   "id": "26d7fbab",
   "metadata": {},
   "outputs": [],
   "source": [
    "data['true_label'] = data['true_label'].replace(to_replace = 0,\n",
    "                 value =\"NEGATIVE\")"
   ]
  },
  {
   "cell_type": "code",
   "execution_count": 94,
   "id": "943f9759",
   "metadata": {},
   "outputs": [],
   "source": [
    "data['true_label']=data['true_label'].replace(to_replace = 2,\n",
    "                 value =\"NEUTRAL\")"
   ]
  },
  {
   "cell_type": "code",
   "execution_count": 95,
   "id": "9739001d",
   "metadata": {},
   "outputs": [],
   "source": [
    "data['true_label']=data['true_label'].replace(to_replace = 4,\n",
    "                 value =\"POSITIVE\")"
   ]
  },
  {
   "cell_type": "code",
   "execution_count": 104,
   "id": "3778eceb",
   "metadata": {},
   "outputs": [
    {
     "data": {
      "text/html": [
       "<div>\n",
       "<style scoped>\n",
       "    .dataframe tbody tr th:only-of-type {\n",
       "        vertical-align: middle;\n",
       "    }\n",
       "\n",
       "    .dataframe tbody tr th {\n",
       "        vertical-align: top;\n",
       "    }\n",
       "\n",
       "    .dataframe thead th {\n",
       "        text-align: right;\n",
       "    }\n",
       "</style>\n",
       "<table border=\"1\" class=\"dataframe\">\n",
       "  <thead>\n",
       "    <tr style=\"text-align: right;\">\n",
       "      <th></th>\n",
       "      <th>true_label</th>\n",
       "      <th>sentence</th>\n",
       "      <th>distibert_prediction</th>\n",
       "    </tr>\n",
       "  </thead>\n",
       "  <tbody>\n",
       "    <tr>\n",
       "      <th>0</th>\n",
       "      <td>POSITIVE</td>\n",
       "      <td>@stellargirl I loooooooovvvvvveee my Kindle2. ...</td>\n",
       "      <td>POSITIVE</td>\n",
       "    </tr>\n",
       "    <tr>\n",
       "      <th>1</th>\n",
       "      <td>POSITIVE</td>\n",
       "      <td>Reading my kindle2...  Love it... Lee childs i...</td>\n",
       "      <td>POSITIVE</td>\n",
       "    </tr>\n",
       "    <tr>\n",
       "      <th>2</th>\n",
       "      <td>POSITIVE</td>\n",
       "      <td>Ok, first assesment of the #kindle2 ...it fuck...</td>\n",
       "      <td>POSITIVE</td>\n",
       "    </tr>\n",
       "    <tr>\n",
       "      <th>3</th>\n",
       "      <td>POSITIVE</td>\n",
       "      <td>@kenburbary You'll love your Kindle2. I've had...</td>\n",
       "      <td>POSITIVE</td>\n",
       "    </tr>\n",
       "    <tr>\n",
       "      <th>4</th>\n",
       "      <td>POSITIVE</td>\n",
       "      <td>@mikefish  Fair enough. But i have the Kindle2...</td>\n",
       "      <td>POSITIVE</td>\n",
       "    </tr>\n",
       "    <tr>\n",
       "      <th>5</th>\n",
       "      <td>POSITIVE</td>\n",
       "      <td>@richardebaker no. it is too big. I'm quite ha...</td>\n",
       "      <td>POSITIVE</td>\n",
       "    </tr>\n",
       "    <tr>\n",
       "      <th>6</th>\n",
       "      <td>NEGATIVE</td>\n",
       "      <td>Fuck this economy. I hate aig and their non lo...</td>\n",
       "      <td>NEGATIVE</td>\n",
       "    </tr>\n",
       "    <tr>\n",
       "      <th>7</th>\n",
       "      <td>POSITIVE</td>\n",
       "      <td>Jquery is my new best friend.</td>\n",
       "      <td>POSITIVE</td>\n",
       "    </tr>\n",
       "    <tr>\n",
       "      <th>8</th>\n",
       "      <td>POSITIVE</td>\n",
       "      <td>Loves twitter</td>\n",
       "      <td>POSITIVE</td>\n",
       "    </tr>\n",
       "    <tr>\n",
       "      <th>9</th>\n",
       "      <td>POSITIVE</td>\n",
       "      <td>how can you not love Obama? he makes jokes abo...</td>\n",
       "      <td>POSITIVE</td>\n",
       "    </tr>\n",
       "    <tr>\n",
       "      <th>11</th>\n",
       "      <td>NEGATIVE</td>\n",
       "      <td>@Karoli I firmly believe that Obama/Pelosi hav...</td>\n",
       "      <td>NEGATIVE</td>\n",
       "    </tr>\n",
       "    <tr>\n",
       "      <th>12</th>\n",
       "      <td>POSITIVE</td>\n",
       "      <td>House Correspondents dinner was last night who...</td>\n",
       "      <td>POSITIVE</td>\n",
       "    </tr>\n",
       "    <tr>\n",
       "      <th>13</th>\n",
       "      <td>POSITIVE</td>\n",
       "      <td>Watchin Espn..Jus seen this new Nike Commerica...</td>\n",
       "      <td>POSITIVE</td>\n",
       "    </tr>\n",
       "    <tr>\n",
       "      <th>14</th>\n",
       "      <td>NEGATIVE</td>\n",
       "      <td>dear nike, stop with the flywire. that shit is...</td>\n",
       "      <td>NEGATIVE</td>\n",
       "    </tr>\n",
       "    <tr>\n",
       "      <th>15</th>\n",
       "      <td>POSITIVE</td>\n",
       "      <td>#lebron best athlete of our generation, if not...</td>\n",
       "      <td>POSITIVE</td>\n",
       "    </tr>\n",
       "    <tr>\n",
       "      <th>16</th>\n",
       "      <td>NEGATIVE</td>\n",
       "      <td>I was talking to this guy last night and he wa...</td>\n",
       "      <td>POSITIVE</td>\n",
       "    </tr>\n",
       "    <tr>\n",
       "      <th>17</th>\n",
       "      <td>POSITIVE</td>\n",
       "      <td>i love lebron. http://bit.ly/PdHur</td>\n",
       "      <td>POSITIVE</td>\n",
       "    </tr>\n",
       "    <tr>\n",
       "      <th>18</th>\n",
       "      <td>NEGATIVE</td>\n",
       "      <td>@ludajuice Lebron is a Beast, but I'm still ch...</td>\n",
       "      <td>POSITIVE</td>\n",
       "    </tr>\n",
       "    <tr>\n",
       "      <th>19</th>\n",
       "      <td>POSITIVE</td>\n",
       "      <td>@Pmillzz lebron IS THE BOSS</td>\n",
       "      <td>POSITIVE</td>\n",
       "    </tr>\n",
       "    <tr>\n",
       "      <th>20</th>\n",
       "      <td>POSITIVE</td>\n",
       "      <td>@sketchbug Lebron is a hometown hero to me, lo...</td>\n",
       "      <td>POSITIVE</td>\n",
       "    </tr>\n",
       "    <tr>\n",
       "      <th>21</th>\n",
       "      <td>POSITIVE</td>\n",
       "      <td>lebron and zydrunas are such an awesome duo</td>\n",
       "      <td>POSITIVE</td>\n",
       "    </tr>\n",
       "    <tr>\n",
       "      <th>22</th>\n",
       "      <td>POSITIVE</td>\n",
       "      <td>@wordwhizkid Lebron is a beast... nobody in th...</td>\n",
       "      <td>NEGATIVE</td>\n",
       "    </tr>\n",
       "    <tr>\n",
       "      <th>23</th>\n",
       "      <td>POSITIVE</td>\n",
       "      <td>downloading apps for my iphone! So much fun :-...</td>\n",
       "      <td>NEGATIVE</td>\n",
       "    </tr>\n",
       "    <tr>\n",
       "      <th>24</th>\n",
       "      <td>POSITIVE</td>\n",
       "      <td>good news, just had a call from the Visa offic...</td>\n",
       "      <td>POSITIVE</td>\n",
       "    </tr>\n",
       "    <tr>\n",
       "      <th>25</th>\n",
       "      <td>POSITIVE</td>\n",
       "      <td>http://twurl.nl/epkr4b - awesome come back fro...</td>\n",
       "      <td>POSITIVE</td>\n",
       "    </tr>\n",
       "  </tbody>\n",
       "</table>\n",
       "</div>"
      ],
      "text/plain": [
       "   true_label                                           sentence  \\\n",
       "0    POSITIVE  @stellargirl I loooooooovvvvvveee my Kindle2. ...   \n",
       "1    POSITIVE  Reading my kindle2...  Love it... Lee childs i...   \n",
       "2    POSITIVE  Ok, first assesment of the #kindle2 ...it fuck...   \n",
       "3    POSITIVE  @kenburbary You'll love your Kindle2. I've had...   \n",
       "4    POSITIVE  @mikefish  Fair enough. But i have the Kindle2...   \n",
       "5    POSITIVE  @richardebaker no. it is too big. I'm quite ha...   \n",
       "6    NEGATIVE  Fuck this economy. I hate aig and their non lo...   \n",
       "7    POSITIVE                      Jquery is my new best friend.   \n",
       "8    POSITIVE                                      Loves twitter   \n",
       "9    POSITIVE  how can you not love Obama? he makes jokes abo...   \n",
       "11   NEGATIVE  @Karoli I firmly believe that Obama/Pelosi hav...   \n",
       "12   POSITIVE  House Correspondents dinner was last night who...   \n",
       "13   POSITIVE  Watchin Espn..Jus seen this new Nike Commerica...   \n",
       "14   NEGATIVE  dear nike, stop with the flywire. that shit is...   \n",
       "15   POSITIVE  #lebron best athlete of our generation, if not...   \n",
       "16   NEGATIVE  I was talking to this guy last night and he wa...   \n",
       "17   POSITIVE                 i love lebron. http://bit.ly/PdHur   \n",
       "18   NEGATIVE  @ludajuice Lebron is a Beast, but I'm still ch...   \n",
       "19   POSITIVE                        @Pmillzz lebron IS THE BOSS   \n",
       "20   POSITIVE  @sketchbug Lebron is a hometown hero to me, lo...   \n",
       "21   POSITIVE        lebron and zydrunas are such an awesome duo   \n",
       "22   POSITIVE  @wordwhizkid Lebron is a beast... nobody in th...   \n",
       "23   POSITIVE  downloading apps for my iphone! So much fun :-...   \n",
       "24   POSITIVE  good news, just had a call from the Visa offic...   \n",
       "25   POSITIVE  http://twurl.nl/epkr4b - awesome come back fro...   \n",
       "\n",
       "   distibert_prediction  \n",
       "0              POSITIVE  \n",
       "1              POSITIVE  \n",
       "2              POSITIVE  \n",
       "3              POSITIVE  \n",
       "4              POSITIVE  \n",
       "5              POSITIVE  \n",
       "6              NEGATIVE  \n",
       "7              POSITIVE  \n",
       "8              POSITIVE  \n",
       "9              POSITIVE  \n",
       "11             NEGATIVE  \n",
       "12             POSITIVE  \n",
       "13             POSITIVE  \n",
       "14             NEGATIVE  \n",
       "15             POSITIVE  \n",
       "16             POSITIVE  \n",
       "17             POSITIVE  \n",
       "18             POSITIVE  \n",
       "19             POSITIVE  \n",
       "20             POSITIVE  \n",
       "21             POSITIVE  \n",
       "22             NEGATIVE  \n",
       "23             NEGATIVE  \n",
       "24             POSITIVE  \n",
       "25             POSITIVE  "
      ]
     },
     "execution_count": 104,
     "metadata": {},
     "output_type": "execute_result"
    }
   ],
   "source": [
    "data.head(25)"
   ]
  },
  {
   "cell_type": "code",
   "execution_count": 102,
   "id": "ab908f3c",
   "metadata": {},
   "outputs": [],
   "source": [
    "data = data[data['true_label'].isin( ['POSITIVE','NEGATIVE'])]"
   ]
  },
  {
   "cell_type": "code",
   "execution_count": 105,
   "id": "5fbf0581",
   "metadata": {},
   "outputs": [],
   "source": [
    "data.to_csv('distilbert_sentiment_analysis_results.csv')"
   ]
  },
  {
   "cell_type": "code",
   "execution_count": null,
   "id": "3a9fdfc2",
   "metadata": {},
   "outputs": [],
   "source": []
  }
 ],
 "metadata": {
  "kernelspec": {
   "display_name": "Python 3",
   "language": "python",
   "name": "python3"
  },
  "language_info": {
   "codemirror_mode": {
    "name": "ipython",
    "version": 3
   },
   "file_extension": ".py",
   "mimetype": "text/x-python",
   "name": "python",
   "nbconvert_exporter": "python",
   "pygments_lexer": "ipython3",
   "version": "3.8.8"
  }
 },
 "nbformat": 4,
 "nbformat_minor": 5
}
