{
 "cells": [
  {
   "cell_type": "code",
   "execution_count": 5,
   "id": "3bfdaf06",
   "metadata": {},
   "outputs": [],
   "source": [
    "from transformers import pipeline\n",
    "import pandas as pd\n",
    "classifier = pipeline('sentiment-analysis')"
   ]
  },
  {
   "cell_type": "code",
   "execution_count": 6,
   "id": "ea7e818e",
   "metadata": {},
   "outputs": [
    {
     "data": {
      "text/plain": [
       "[{'label': 'POSITIVE', 'score': 0.9997795224189758}]"
      ]
     },
     "execution_count": 6,
     "metadata": {},
     "output_type": "execute_result"
    }
   ],
   "source": [
    "classifier('We are very happy to show you the 🤗 Transformers library.')"
   ]
  },
  {
   "cell_type": "code",
   "execution_count": 7,
   "id": "981b34c4",
   "metadata": {},
   "outputs": [],
   "source": [
    "results = classifier([\"I really appreciate the task you did as I had less time to do myself.\"])"
   ]
  },
  {
   "cell_type": "code",
   "execution_count": 8,
   "id": "4b8a3a3a",
   "metadata": {},
   "outputs": [
    {
     "name": "stdout",
     "output_type": "stream",
     "text": [
      "label: POSITIVE, with score: 0.9996\n"
     ]
    }
   ],
   "source": [
    "for result in results:\n",
    "...     print(f\"label: {result['label']}, with score: {round(result['score'], 4)}\")"
   ]
  },
  {
   "cell_type": "code",
   "execution_count": 9,
   "id": "cf9a8f42",
   "metadata": {},
   "outputs": [],
   "source": [
    "#under the hood \n",
    "from transformers import AutoTokenizer, AutoModelForSequenceClassification\n",
    "model_name = \"distilbert-base-uncased-finetuned-sst-2-english\"\n",
    "pt_model = AutoModelForSequenceClassification.from_pretrained(model_name)\n",
    "tokenizer = AutoTokenizer.from_pretrained(model_name)"
   ]
  },
  {
   "cell_type": "code",
   "execution_count": 10,
   "id": "a71cc199",
   "metadata": {},
   "outputs": [],
   "source": [
    "inputs = tokenizer(\"I really appreciate the task you did as I had less time to do myself.\")"
   ]
  },
  {
   "cell_type": "code",
   "execution_count": 11,
   "id": "3928a693",
   "metadata": {},
   "outputs": [
    {
     "name": "stdout",
     "output_type": "stream",
     "text": [
      "{'input_ids': [101, 1045, 2428, 9120, 1996, 4708, 2017, 2106, 2004, 1045, 2018, 2625, 2051, 2000, 2079, 2870, 1012, 102], 'attention_mask': [1, 1, 1, 1, 1, 1, 1, 1, 1, 1, 1, 1, 1, 1, 1, 1, 1, 1]}\n"
     ]
    }
   ],
   "source": [
    "print(inputs)"
   ]
  },
  {
   "cell_type": "code",
   "execution_count": 12,
   "id": "926d6072",
   "metadata": {},
   "outputs": [],
   "source": [
    "pt_batch = tokenizer(\n",
    "...     [\"I really appreciate the task you did as I had less time to do myself.\"],\n",
    "...     padding=True,\n",
    "...     truncation=True,\n",
    "...     max_length=512,\n",
    "...     return_tensors=\"pt\"\n",
    "... )"
   ]
  },
  {
   "cell_type": "code",
   "execution_count": 13,
   "id": "26634ca6",
   "metadata": {},
   "outputs": [],
   "source": [
    "pt_outputs = pt_model(**pt_batch)"
   ]
  },
  {
   "cell_type": "code",
   "execution_count": 14,
   "id": "49311f1c",
   "metadata": {},
   "outputs": [
    {
     "name": "stdout",
     "output_type": "stream",
     "text": [
      "SequenceClassifierOutput(loss=None, logits=tensor([[-3.7434,  4.0094]], grad_fn=<AddmmBackward>), hidden_states=None, attentions=None)\n"
     ]
    }
   ],
   "source": [
    "print(pt_outputs)"
   ]
  },
  {
   "cell_type": "code",
   "execution_count": 15,
   "id": "5c474617",
   "metadata": {},
   "outputs": [],
   "source": [
    "import torch.nn.functional as F\n",
    "pt_predictions = F.softmax(pt_outputs.logits, dim=-1)"
   ]
  },
  {
   "cell_type": "code",
   "execution_count": 16,
   "id": "6cf6e4c0",
   "metadata": {},
   "outputs": [
    {
     "name": "stdout",
     "output_type": "stream",
     "text": [
      "tensor([[4.2932e-04, 9.9957e-01]], grad_fn=<SoftmaxBackward>)\n"
     ]
    }
   ],
   "source": [
    "print(pt_predictions)"
   ]
  },
  {
   "cell_type": "code",
   "execution_count": 17,
   "id": "ea4ba218",
   "metadata": {},
   "outputs": [
    {
     "name": "stdout",
     "output_type": "stream",
     "text": [
      "/Users/simrankaur\r\n"
     ]
    }
   ],
   "source": [
    "!pwd"
   ]
  },
  {
   "cell_type": "code",
   "execution_count": 28,
   "id": "18cbb145",
   "metadata": {},
   "outputs": [],
   "source": [
    "col_names=['true_label','sentence'] \n",
    "data = pd.read_csv(\"testdata.csv\", names=col_names)"
   ]
  },
  {
   "cell_type": "code",
   "execution_count": 32,
   "id": "61fa68f7",
   "metadata": {},
   "outputs": [
    {
     "data": {
      "text/html": [
       "<div>\n",
       "<style scoped>\n",
       "    .dataframe tbody tr th:only-of-type {\n",
       "        vertical-align: middle;\n",
       "    }\n",
       "\n",
       "    .dataframe tbody tr th {\n",
       "        vertical-align: top;\n",
       "    }\n",
       "\n",
       "    .dataframe thead th {\n",
       "        text-align: right;\n",
       "    }\n",
       "</style>\n",
       "<table border=\"1\" class=\"dataframe\">\n",
       "  <thead>\n",
       "    <tr style=\"text-align: right;\">\n",
       "      <th></th>\n",
       "      <th>true_label</th>\n",
       "      <th>sentence</th>\n",
       "    </tr>\n",
       "  </thead>\n",
       "  <tbody>\n",
       "    <tr>\n",
       "      <th>0</th>\n",
       "      <td>POSITIVE</td>\n",
       "      <td>@stellargirl I loooooooovvvvvveee my Kindle2. ...</td>\n",
       "    </tr>\n",
       "    <tr>\n",
       "      <th>1</th>\n",
       "      <td>POSITIVE</td>\n",
       "      <td>Reading my kindle2...  Love it... Lee childs i...</td>\n",
       "    </tr>\n",
       "    <tr>\n",
       "      <th>2</th>\n",
       "      <td>POSITIVE</td>\n",
       "      <td>Ok, first assesment of the #kindle2 ...it fuck...</td>\n",
       "    </tr>\n",
       "    <tr>\n",
       "      <th>3</th>\n",
       "      <td>POSITIVE</td>\n",
       "      <td>@kenburbary You'll love your Kindle2. I've had...</td>\n",
       "    </tr>\n",
       "    <tr>\n",
       "      <th>4</th>\n",
       "      <td>POSITIVE</td>\n",
       "      <td>@mikefish  Fair enough. But i have the Kindle2...</td>\n",
       "    </tr>\n",
       "    <tr>\n",
       "      <th>5</th>\n",
       "      <td>POSITIVE</td>\n",
       "      <td>@richardebaker no. it is too big. I'm quite ha...</td>\n",
       "    </tr>\n",
       "    <tr>\n",
       "      <th>6</th>\n",
       "      <td>NEGATIVE</td>\n",
       "      <td>Fuck this economy. I hate aig and their non lo...</td>\n",
       "    </tr>\n",
       "    <tr>\n",
       "      <th>7</th>\n",
       "      <td>POSITIVE</td>\n",
       "      <td>Jquery is my new best friend.</td>\n",
       "    </tr>\n",
       "    <tr>\n",
       "      <th>8</th>\n",
       "      <td>POSITIVE</td>\n",
       "      <td>Loves twitter</td>\n",
       "    </tr>\n",
       "    <tr>\n",
       "      <th>9</th>\n",
       "      <td>POSITIVE</td>\n",
       "      <td>how can you not love Obama? he makes jokes abo...</td>\n",
       "    </tr>\n",
       "    <tr>\n",
       "      <th>10</th>\n",
       "      <td>NEUTRAL</td>\n",
       "      <td>Check this video out -- President Obama at the...</td>\n",
       "    </tr>\n",
       "    <tr>\n",
       "      <th>11</th>\n",
       "      <td>NEGATIVE</td>\n",
       "      <td>@Karoli I firmly believe that Obama/Pelosi hav...</td>\n",
       "    </tr>\n",
       "    <tr>\n",
       "      <th>12</th>\n",
       "      <td>POSITIVE</td>\n",
       "      <td>House Correspondents dinner was last night who...</td>\n",
       "    </tr>\n",
       "    <tr>\n",
       "      <th>13</th>\n",
       "      <td>POSITIVE</td>\n",
       "      <td>Watchin Espn..Jus seen this new Nike Commerica...</td>\n",
       "    </tr>\n",
       "    <tr>\n",
       "      <th>14</th>\n",
       "      <td>NEGATIVE</td>\n",
       "      <td>dear nike, stop with the flywire. that shit is...</td>\n",
       "    </tr>\n",
       "  </tbody>\n",
       "</table>\n",
       "</div>"
      ],
      "text/plain": [
       "   true_label                                           sentence\n",
       "0    POSITIVE  @stellargirl I loooooooovvvvvveee my Kindle2. ...\n",
       "1    POSITIVE  Reading my kindle2...  Love it... Lee childs i...\n",
       "2    POSITIVE  Ok, first assesment of the #kindle2 ...it fuck...\n",
       "3    POSITIVE  @kenburbary You'll love your Kindle2. I've had...\n",
       "4    POSITIVE  @mikefish  Fair enough. But i have the Kindle2...\n",
       "5    POSITIVE  @richardebaker no. it is too big. I'm quite ha...\n",
       "6    NEGATIVE  Fuck this economy. I hate aig and their non lo...\n",
       "7    POSITIVE                      Jquery is my new best friend.\n",
       "8    POSITIVE                                      Loves twitter\n",
       "9    POSITIVE  how can you not love Obama? he makes jokes abo...\n",
       "10    NEUTRAL  Check this video out -- President Obama at the...\n",
       "11   NEGATIVE  @Karoli I firmly believe that Obama/Pelosi hav...\n",
       "12   POSITIVE  House Correspondents dinner was last night who...\n",
       "13   POSITIVE  Watchin Espn..Jus seen this new Nike Commerica...\n",
       "14   NEGATIVE  dear nike, stop with the flywire. that shit is..."
      ]
     },
     "execution_count": 32,
     "metadata": {},
     "output_type": "execute_result"
    }
   ],
   "source": [
    "data.head(15)"
   ]
  },
  {
   "cell_type": "code",
   "execution_count": 31,
   "id": "840ede71",
   "metadata": {},
   "outputs": [],
   "source": [
    "vals_to_replace = {0:'NEGATIVE', 2:'NEUTRAL', 4:'POSITIVE'}\n",
    "data['true_label'] = data['true_label'].map(vals_to_replace)"
   ]
  },
  {
   "cell_type": "code",
   "execution_count": 33,
   "id": "b408c8c8",
   "metadata": {},
   "outputs": [],
   "source": [
    "def sentiment_analyze(sentence):\n",
    "    pred = classifier(sentence)[0]\n",
    "    #print(pred)\n",
    "    return pred['label']"
   ]
  },
  {
   "cell_type": "code",
   "execution_count": 34,
   "id": "d834b4a6",
   "metadata": {},
   "outputs": [
    {
     "name": "stdout",
     "output_type": "stream",
     "text": [
      "POSITIVE\n"
     ]
    }
   ],
   "source": [
    "print(sentiment_analyze(data.sentence[3]))"
   ]
  },
  {
   "cell_type": "code",
   "execution_count": 35,
   "id": "3d34c746",
   "metadata": {},
   "outputs": [],
   "source": [
    "data['distibert_prediction'] = data['sentence'].apply(lambda x:sentiment_analyze(x))"
   ]
  },
  {
   "cell_type": "code",
   "execution_count": 36,
   "id": "e0e92430",
   "metadata": {},
   "outputs": [
    {
     "data": {
      "text/html": [
       "<div>\n",
       "<style scoped>\n",
       "    .dataframe tbody tr th:only-of-type {\n",
       "        vertical-align: middle;\n",
       "    }\n",
       "\n",
       "    .dataframe tbody tr th {\n",
       "        vertical-align: top;\n",
       "    }\n",
       "\n",
       "    .dataframe thead th {\n",
       "        text-align: right;\n",
       "    }\n",
       "</style>\n",
       "<table border=\"1\" class=\"dataframe\">\n",
       "  <thead>\n",
       "    <tr style=\"text-align: right;\">\n",
       "      <th></th>\n",
       "      <th>true_label</th>\n",
       "      <th>sentence</th>\n",
       "      <th>distibert_prediction</th>\n",
       "    </tr>\n",
       "  </thead>\n",
       "  <tbody>\n",
       "    <tr>\n",
       "      <th>0</th>\n",
       "      <td>POSITIVE</td>\n",
       "      <td>@stellargirl I loooooooovvvvvveee my Kindle2. ...</td>\n",
       "      <td>POSITIVE</td>\n",
       "    </tr>\n",
       "    <tr>\n",
       "      <th>1</th>\n",
       "      <td>POSITIVE</td>\n",
       "      <td>Reading my kindle2...  Love it... Lee childs i...</td>\n",
       "      <td>POSITIVE</td>\n",
       "    </tr>\n",
       "    <tr>\n",
       "      <th>2</th>\n",
       "      <td>POSITIVE</td>\n",
       "      <td>Ok, first assesment of the #kindle2 ...it fuck...</td>\n",
       "      <td>POSITIVE</td>\n",
       "    </tr>\n",
       "    <tr>\n",
       "      <th>3</th>\n",
       "      <td>POSITIVE</td>\n",
       "      <td>@kenburbary You'll love your Kindle2. I've had...</td>\n",
       "      <td>POSITIVE</td>\n",
       "    </tr>\n",
       "    <tr>\n",
       "      <th>4</th>\n",
       "      <td>POSITIVE</td>\n",
       "      <td>@mikefish  Fair enough. But i have the Kindle2...</td>\n",
       "      <td>POSITIVE</td>\n",
       "    </tr>\n",
       "    <tr>\n",
       "      <th>5</th>\n",
       "      <td>POSITIVE</td>\n",
       "      <td>@richardebaker no. it is too big. I'm quite ha...</td>\n",
       "      <td>POSITIVE</td>\n",
       "    </tr>\n",
       "    <tr>\n",
       "      <th>6</th>\n",
       "      <td>NEGATIVE</td>\n",
       "      <td>Fuck this economy. I hate aig and their non lo...</td>\n",
       "      <td>NEGATIVE</td>\n",
       "    </tr>\n",
       "    <tr>\n",
       "      <th>7</th>\n",
       "      <td>POSITIVE</td>\n",
       "      <td>Jquery is my new best friend.</td>\n",
       "      <td>POSITIVE</td>\n",
       "    </tr>\n",
       "    <tr>\n",
       "      <th>8</th>\n",
       "      <td>POSITIVE</td>\n",
       "      <td>Loves twitter</td>\n",
       "      <td>POSITIVE</td>\n",
       "    </tr>\n",
       "    <tr>\n",
       "      <th>9</th>\n",
       "      <td>POSITIVE</td>\n",
       "      <td>how can you not love Obama? he makes jokes abo...</td>\n",
       "      <td>POSITIVE</td>\n",
       "    </tr>\n",
       "    <tr>\n",
       "      <th>10</th>\n",
       "      <td>NEUTRAL</td>\n",
       "      <td>Check this video out -- President Obama at the...</td>\n",
       "      <td>NEGATIVE</td>\n",
       "    </tr>\n",
       "    <tr>\n",
       "      <th>11</th>\n",
       "      <td>NEGATIVE</td>\n",
       "      <td>@Karoli I firmly believe that Obama/Pelosi hav...</td>\n",
       "      <td>NEGATIVE</td>\n",
       "    </tr>\n",
       "    <tr>\n",
       "      <th>12</th>\n",
       "      <td>POSITIVE</td>\n",
       "      <td>House Correspondents dinner was last night who...</td>\n",
       "      <td>POSITIVE</td>\n",
       "    </tr>\n",
       "    <tr>\n",
       "      <th>13</th>\n",
       "      <td>POSITIVE</td>\n",
       "      <td>Watchin Espn..Jus seen this new Nike Commerica...</td>\n",
       "      <td>POSITIVE</td>\n",
       "    </tr>\n",
       "    <tr>\n",
       "      <th>14</th>\n",
       "      <td>NEGATIVE</td>\n",
       "      <td>dear nike, stop with the flywire. that shit is...</td>\n",
       "      <td>NEGATIVE</td>\n",
       "    </tr>\n",
       "    <tr>\n",
       "      <th>15</th>\n",
       "      <td>POSITIVE</td>\n",
       "      <td>#lebron best athlete of our generation, if not...</td>\n",
       "      <td>POSITIVE</td>\n",
       "    </tr>\n",
       "    <tr>\n",
       "      <th>16</th>\n",
       "      <td>NEGATIVE</td>\n",
       "      <td>I was talking to this guy last night and he wa...</td>\n",
       "      <td>POSITIVE</td>\n",
       "    </tr>\n",
       "    <tr>\n",
       "      <th>17</th>\n",
       "      <td>POSITIVE</td>\n",
       "      <td>i love lebron. http://bit.ly/PdHur</td>\n",
       "      <td>POSITIVE</td>\n",
       "    </tr>\n",
       "    <tr>\n",
       "      <th>18</th>\n",
       "      <td>NEGATIVE</td>\n",
       "      <td>@ludajuice Lebron is a Beast, but I'm still ch...</td>\n",
       "      <td>POSITIVE</td>\n",
       "    </tr>\n",
       "    <tr>\n",
       "      <th>19</th>\n",
       "      <td>POSITIVE</td>\n",
       "      <td>@Pmillzz lebron IS THE BOSS</td>\n",
       "      <td>POSITIVE</td>\n",
       "    </tr>\n",
       "    <tr>\n",
       "      <th>20</th>\n",
       "      <td>POSITIVE</td>\n",
       "      <td>@sketchbug Lebron is a hometown hero to me, lo...</td>\n",
       "      <td>POSITIVE</td>\n",
       "    </tr>\n",
       "    <tr>\n",
       "      <th>21</th>\n",
       "      <td>POSITIVE</td>\n",
       "      <td>lebron and zydrunas are such an awesome duo</td>\n",
       "      <td>POSITIVE</td>\n",
       "    </tr>\n",
       "    <tr>\n",
       "      <th>22</th>\n",
       "      <td>POSITIVE</td>\n",
       "      <td>@wordwhizkid Lebron is a beast... nobody in th...</td>\n",
       "      <td>NEGATIVE</td>\n",
       "    </tr>\n",
       "    <tr>\n",
       "      <th>23</th>\n",
       "      <td>POSITIVE</td>\n",
       "      <td>downloading apps for my iphone! So much fun :-...</td>\n",
       "      <td>NEGATIVE</td>\n",
       "    </tr>\n",
       "    <tr>\n",
       "      <th>24</th>\n",
       "      <td>POSITIVE</td>\n",
       "      <td>good news, just had a call from the Visa offic...</td>\n",
       "      <td>POSITIVE</td>\n",
       "    </tr>\n",
       "  </tbody>\n",
       "</table>\n",
       "</div>"
      ],
      "text/plain": [
       "   true_label                                           sentence  \\\n",
       "0    POSITIVE  @stellargirl I loooooooovvvvvveee my Kindle2. ...   \n",
       "1    POSITIVE  Reading my kindle2...  Love it... Lee childs i...   \n",
       "2    POSITIVE  Ok, first assesment of the #kindle2 ...it fuck...   \n",
       "3    POSITIVE  @kenburbary You'll love your Kindle2. I've had...   \n",
       "4    POSITIVE  @mikefish  Fair enough. But i have the Kindle2...   \n",
       "5    POSITIVE  @richardebaker no. it is too big. I'm quite ha...   \n",
       "6    NEGATIVE  Fuck this economy. I hate aig and their non lo...   \n",
       "7    POSITIVE                      Jquery is my new best friend.   \n",
       "8    POSITIVE                                      Loves twitter   \n",
       "9    POSITIVE  how can you not love Obama? he makes jokes abo...   \n",
       "10    NEUTRAL  Check this video out -- President Obama at the...   \n",
       "11   NEGATIVE  @Karoli I firmly believe that Obama/Pelosi hav...   \n",
       "12   POSITIVE  House Correspondents dinner was last night who...   \n",
       "13   POSITIVE  Watchin Espn..Jus seen this new Nike Commerica...   \n",
       "14   NEGATIVE  dear nike, stop with the flywire. that shit is...   \n",
       "15   POSITIVE  #lebron best athlete of our generation, if not...   \n",
       "16   NEGATIVE  I was talking to this guy last night and he wa...   \n",
       "17   POSITIVE                 i love lebron. http://bit.ly/PdHur   \n",
       "18   NEGATIVE  @ludajuice Lebron is a Beast, but I'm still ch...   \n",
       "19   POSITIVE                        @Pmillzz lebron IS THE BOSS   \n",
       "20   POSITIVE  @sketchbug Lebron is a hometown hero to me, lo...   \n",
       "21   POSITIVE        lebron and zydrunas are such an awesome duo   \n",
       "22   POSITIVE  @wordwhizkid Lebron is a beast... nobody in th...   \n",
       "23   POSITIVE  downloading apps for my iphone! So much fun :-...   \n",
       "24   POSITIVE  good news, just had a call from the Visa offic...   \n",
       "\n",
       "   distibert_prediction  \n",
       "0              POSITIVE  \n",
       "1              POSITIVE  \n",
       "2              POSITIVE  \n",
       "3              POSITIVE  \n",
       "4              POSITIVE  \n",
       "5              POSITIVE  \n",
       "6              NEGATIVE  \n",
       "7              POSITIVE  \n",
       "8              POSITIVE  \n",
       "9              POSITIVE  \n",
       "10             NEGATIVE  \n",
       "11             NEGATIVE  \n",
       "12             POSITIVE  \n",
       "13             POSITIVE  \n",
       "14             NEGATIVE  \n",
       "15             POSITIVE  \n",
       "16             POSITIVE  \n",
       "17             POSITIVE  \n",
       "18             POSITIVE  \n",
       "19             POSITIVE  \n",
       "20             POSITIVE  \n",
       "21             POSITIVE  \n",
       "22             NEGATIVE  \n",
       "23             NEGATIVE  \n",
       "24             POSITIVE  "
      ]
     },
     "execution_count": 36,
     "metadata": {},
     "output_type": "execute_result"
    }
   ],
   "source": [
    "data.head(25)"
   ]
  },
  {
   "cell_type": "code",
   "execution_count": 37,
   "id": "c22c1ac0",
   "metadata": {},
   "outputs": [],
   "source": [
    "data = data[data['true_label'].isin( ['POSITIVE','NEGATIVE'])]"
   ]
  },
  {
   "cell_type": "code",
   "execution_count": 38,
   "id": "7175d45a",
   "metadata": {},
   "outputs": [
    {
     "data": {
      "text/html": [
       "<div>\n",
       "<style scoped>\n",
       "    .dataframe tbody tr th:only-of-type {\n",
       "        vertical-align: middle;\n",
       "    }\n",
       "\n",
       "    .dataframe tbody tr th {\n",
       "        vertical-align: top;\n",
       "    }\n",
       "\n",
       "    .dataframe thead th {\n",
       "        text-align: right;\n",
       "    }\n",
       "</style>\n",
       "<table border=\"1\" class=\"dataframe\">\n",
       "  <thead>\n",
       "    <tr style=\"text-align: right;\">\n",
       "      <th></th>\n",
       "      <th>true_label</th>\n",
       "      <th>sentence</th>\n",
       "      <th>distibert_prediction</th>\n",
       "    </tr>\n",
       "  </thead>\n",
       "  <tbody>\n",
       "    <tr>\n",
       "      <th>0</th>\n",
       "      <td>POSITIVE</td>\n",
       "      <td>@stellargirl I loooooooovvvvvveee my Kindle2. ...</td>\n",
       "      <td>POSITIVE</td>\n",
       "    </tr>\n",
       "    <tr>\n",
       "      <th>1</th>\n",
       "      <td>POSITIVE</td>\n",
       "      <td>Reading my kindle2...  Love it... Lee childs i...</td>\n",
       "      <td>POSITIVE</td>\n",
       "    </tr>\n",
       "    <tr>\n",
       "      <th>2</th>\n",
       "      <td>POSITIVE</td>\n",
       "      <td>Ok, first assesment of the #kindle2 ...it fuck...</td>\n",
       "      <td>POSITIVE</td>\n",
       "    </tr>\n",
       "    <tr>\n",
       "      <th>3</th>\n",
       "      <td>POSITIVE</td>\n",
       "      <td>@kenburbary You'll love your Kindle2. I've had...</td>\n",
       "      <td>POSITIVE</td>\n",
       "    </tr>\n",
       "    <tr>\n",
       "      <th>4</th>\n",
       "      <td>POSITIVE</td>\n",
       "      <td>@mikefish  Fair enough. But i have the Kindle2...</td>\n",
       "      <td>POSITIVE</td>\n",
       "    </tr>\n",
       "    <tr>\n",
       "      <th>...</th>\n",
       "      <td>...</td>\n",
       "      <td>...</td>\n",
       "      <td>...</td>\n",
       "    </tr>\n",
       "    <tr>\n",
       "      <th>490</th>\n",
       "      <td>NEGATIVE</td>\n",
       "      <td>I just created my first LaTeX file from scratc...</td>\n",
       "      <td>NEGATIVE</td>\n",
       "    </tr>\n",
       "    <tr>\n",
       "      <th>491</th>\n",
       "      <td>POSITIVE</td>\n",
       "      <td>using Linux and loving it - so much nicer than...</td>\n",
       "      <td>POSITIVE</td>\n",
       "    </tr>\n",
       "    <tr>\n",
       "      <th>494</th>\n",
       "      <td>NEGATIVE</td>\n",
       "      <td>On that note, I hate Word. I hate Pages. I hat...</td>\n",
       "      <td>NEGATIVE</td>\n",
       "    </tr>\n",
       "    <tr>\n",
       "      <th>496</th>\n",
       "      <td>NEGATIVE</td>\n",
       "      <td>Trouble in Iran, I see. Hmm. Iran. Iran so far...</td>\n",
       "      <td>NEGATIVE</td>\n",
       "    </tr>\n",
       "    <tr>\n",
       "      <th>497</th>\n",
       "      <td>NEGATIVE</td>\n",
       "      <td>Reading the tweets coming out of Iran... The w...</td>\n",
       "      <td>NEGATIVE</td>\n",
       "    </tr>\n",
       "  </tbody>\n",
       "</table>\n",
       "<p>297 rows × 3 columns</p>\n",
       "</div>"
      ],
      "text/plain": [
       "    true_label                                           sentence  \\\n",
       "0     POSITIVE  @stellargirl I loooooooovvvvvveee my Kindle2. ...   \n",
       "1     POSITIVE  Reading my kindle2...  Love it... Lee childs i...   \n",
       "2     POSITIVE  Ok, first assesment of the #kindle2 ...it fuck...   \n",
       "3     POSITIVE  @kenburbary You'll love your Kindle2. I've had...   \n",
       "4     POSITIVE  @mikefish  Fair enough. But i have the Kindle2...   \n",
       "..         ...                                                ...   \n",
       "490   NEGATIVE  I just created my first LaTeX file from scratc...   \n",
       "491   POSITIVE  using Linux and loving it - so much nicer than...   \n",
       "494   NEGATIVE  On that note, I hate Word. I hate Pages. I hat...   \n",
       "496   NEGATIVE  Trouble in Iran, I see. Hmm. Iran. Iran so far...   \n",
       "497   NEGATIVE  Reading the tweets coming out of Iran... The w...   \n",
       "\n",
       "    distibert_prediction  \n",
       "0               POSITIVE  \n",
       "1               POSITIVE  \n",
       "2               POSITIVE  \n",
       "3               POSITIVE  \n",
       "4               POSITIVE  \n",
       "..                   ...  \n",
       "490             NEGATIVE  \n",
       "491             POSITIVE  \n",
       "494             NEGATIVE  \n",
       "496             NEGATIVE  \n",
       "497             NEGATIVE  \n",
       "\n",
       "[297 rows x 3 columns]"
      ]
     },
     "execution_count": 38,
     "metadata": {},
     "output_type": "execute_result"
    }
   ],
   "source": [
    "true_predictions = data[data['true_label'] == data['distibert_prediction']]\n",
    "true_predictions"
   ]
  },
  {
   "cell_type": "code",
   "execution_count": 39,
   "id": "b9c286ca",
   "metadata": {},
   "outputs": [],
   "source": [
    "data.to_csv('distilbert_sentiment_analysis_results.csv')"
   ]
  },
  {
   "cell_type": "code",
   "execution_count": 41,
   "id": "eb57b57d",
   "metadata": {},
   "outputs": [
    {
     "name": "stdout",
     "output_type": "stream",
     "text": [
      "              precision    recall  f1-score   support\n",
      "\n",
      "    POSITIVE       0.79      0.89      0.84       177\n",
      "    NEGATIVE       0.88      0.76      0.82       182\n",
      "\n",
      "    accuracy                           0.83       359\n",
      "   macro avg       0.83      0.83      0.83       359\n",
      "weighted avg       0.83      0.83      0.83       359\n",
      "\n"
     ]
    }
   ],
   "source": [
    "from sklearn.metrics import classification_report\n",
    "from sklearn.metrics import confusion_matrix\n",
    "import seaborn as sn\n",
    "import matplotlib.pyplot as plt\n",
    "# from sklearn.metrics import jaccard_score\n",
    "# from pandas_ml import ConfusionMatrix\n",
    "y_true = data['true_label']\n",
    "y_pred = data['distibert_prediction']\n",
    "target_names = ['POSITIVE','NEGATIVE']\n",
    "print(classification_report(y_true, y_pred, target_names=target_names))"
   ]
  },
  {
   "cell_type": "code",
   "execution_count": 44,
   "id": "7bee64a4",
   "metadata": {},
   "outputs": [
    {
     "data": {
      "image/png": "[encoded data removed]",
      "text/plain": [
       "<Figure size 432x288 with 2 Axes>"
      ]
     },
     "metadata": {
      "needs_background": "light"
     },
     "output_type": "display_data"
    }
   ],
   "source": [
    "confusion_matrix = pd.crosstab(data['true_label'], data['distibert_prediction'], rownames=['Actual'], colnames=['Predicted'],margins=True)\n",
    "\n",
    "sn.heatmap(confusion_matrix, annot=True)\n",
    "plt.show()"
   ]
  },
  {
   "cell_type": "code",
   "execution_count": 47,
   "id": "38c92563",
   "metadata": {},
   "outputs": [
    {
     "name": "stdout",
     "output_type": "stream",
     "text": [
      "[[139  43]\n",
      " [ 19 158]]\n",
      "              precision    recall  f1-score   support\n",
      "\n",
      "    POSITIVE       0.88      0.76      0.82       182\n",
      "    NEGATIVE       0.79      0.89      0.84       177\n",
      "\n",
      "    accuracy                           0.83       359\n",
      "   macro avg       0.83      0.83      0.83       359\n",
      "weighted avg       0.83      0.83      0.83       359\n",
      "\n"
     ]
    }
   ],
   "source": [
    "from sklearn import metrics\n",
    "print(metrics.confusion_matrix(data.true_label, data.distibert_prediction, labels=['POSITIVE','NEGATIVE']))\n",
    "# Printing the precision and recall, among other metrics\n",
    "print(metrics.classification_report(data.true_label, data.distibert_prediction, labels=['POSITIVE','NEGATIVE']))"
   ]
  },
  {
   "cell_type": "code",
   "execution_count": null,
   "id": "3de5655a",
   "metadata": {},
   "outputs": [],
   "source": []
  }
 ],
 "metadata": {
  "kernelspec": {
   "display_name": "Python 3",
   "language": "python",
   "name": "python3"
  }
 },
 "nbformat": 4,
 "nbformat_minor": 5
}
